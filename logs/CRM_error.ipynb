{
 "cells": [
  {
   "cell_type": "code",
   "execution_count": 12,
   "metadata": {},
   "outputs": [
    {
     "name": "stdout",
     "output_type": "stream",
     "text": [
      "dev_disp\n"
     ]
    },
    {
     "ename": "TypeError",
     "evalue": "can only concatenate str (not \"datetime.datetime\") to str",
     "output_type": "error",
     "traceback": [
      "\u001b[1;31m---------------------------------------------------------------------------\u001b[0m",
      "\u001b[1;31mTypeError\u001b[0m                                 Traceback (most recent call last)",
      "\u001b[1;32m<ipython-input-12-a16df5b1a27d>\u001b[0m in \u001b[0;36m<module>\u001b[1;34m\u001b[0m\n\u001b[0;32m     48\u001b[0m \u001b[1;33m\u001b[0m\u001b[0m\n\u001b[0;32m     49\u001b[0m             \u001b[0mout\u001b[0m \u001b[1;33m=\u001b[0m \u001b[0mmap\u001b[0m\u001b[1;33m(\u001b[0m\u001b[0mget_errors\u001b[0m\u001b[1;33m,\u001b[0m \u001b[0mmappedFile\u001b[0m\u001b[1;33m)\u001b[0m\u001b[1;33m\u001b[0m\u001b[1;33m\u001b[0m\u001b[0m\n\u001b[1;32m---> 50\u001b[1;33m             \u001b[0mout\u001b[0m \u001b[1;33m=\u001b[0m \u001b[0mlist\u001b[0m\u001b[1;33m(\u001b[0m\u001b[0mfilter\u001b[0m\u001b[1;33m(\u001b[0m\u001b[1;32mNone\u001b[0m\u001b[1;33m,\u001b[0m \u001b[0mout\u001b[0m\u001b[1;33m)\u001b[0m\u001b[1;33m)\u001b[0m\u001b[1;33m\u001b[0m\u001b[1;33m\u001b[0m\u001b[0m\n\u001b[0m\u001b[0;32m     51\u001b[0m             \u001b[0mf\u001b[0m\u001b[1;33m.\u001b[0m\u001b[0mclose\u001b[0m\u001b[1;33m(\u001b[0m\u001b[1;33m)\u001b[0m\u001b[1;33m\u001b[0m\u001b[1;33m\u001b[0m\u001b[0m\n\u001b[0;32m     52\u001b[0m             \u001b[0mwarn\u001b[0m \u001b[1;33m=\u001b[0m \u001b[0mpd\u001b[0m\u001b[1;33m.\u001b[0m\u001b[0mDataFrame\u001b[0m\u001b[1;33m(\u001b[0m\u001b[0mout\u001b[0m\u001b[1;33m,\u001b[0m \u001b[0mcolumns\u001b[0m\u001b[1;33m=\u001b[0m\u001b[1;33m[\u001b[0m\u001b[1;34m\"DATE\"\u001b[0m\u001b[1;33m,\u001b[0m \u001b[1;34m\"TIME\"\u001b[0m\u001b[1;33m,\u001b[0m \u001b[1;34m\"DBNAME\"\u001b[0m\u001b[1;33m,\u001b[0m \u001b[1;34m\"WARNINGS\"\u001b[0m\u001b[1;33m,\u001b[0m \u001b[1;34m\"ERRORCODE\"\u001b[0m\u001b[1;33m]\u001b[0m\u001b[1;33m)\u001b[0m\u001b[1;33m\u001b[0m\u001b[1;33m\u001b[0m\u001b[0m\n",
      "\u001b[1;32m<ipython-input-12-a16df5b1a27d>\u001b[0m in \u001b[0;36mget_errors\u001b[1;34m(x)\u001b[0m\n\u001b[0;32m     32\u001b[0m                     \u001b[0mnew_date\u001b[0m \u001b[1;33m=\u001b[0m \u001b[0mold_date\u001b[0m\u001b[1;33m.\u001b[0m\u001b[0mstrftime\u001b[0m\u001b[1;33m(\u001b[0m\u001b[1;34m\"%m/%d/%Y\"\u001b[0m\u001b[1;33m)\u001b[0m\u001b[1;33m\u001b[0m\u001b[1;33m\u001b[0m\u001b[0m\n\u001b[0;32m     33\u001b[0m                     \u001b[0mnew_time\u001b[0m \u001b[1;33m=\u001b[0m \u001b[0mold_date\u001b[0m\u001b[1;33m.\u001b[0m\u001b[0mstrftime\u001b[0m\u001b[1;33m(\u001b[0m\u001b[1;34m\"%X\"\u001b[0m\u001b[1;33m)\u001b[0m\u001b[1;33m\u001b[0m\u001b[1;33m\u001b[0m\u001b[0m\n\u001b[1;32m---> 34\u001b[1;33m                     \u001b[0mprint\u001b[0m\u001b[1;33m(\u001b[0m\u001b[1;34m\"New Date = \"\u001b[0m \u001b[1;33m+\u001b[0m \u001b[0mnew_date\u001b[0m \u001b[1;33m+\u001b[0m \u001b[1;34m\"Old Date= \"\u001b[0m \u001b[1;33m+\u001b[0m \u001b[0mold_date\u001b[0m\u001b[1;33m)\u001b[0m\u001b[1;33m\u001b[0m\u001b[1;33m\u001b[0m\u001b[0m\n\u001b[0m\u001b[0;32m     35\u001b[0m                 \u001b[1;32mif\u001b[0m \u001b[0mre\u001b[0m\u001b[1;33m.\u001b[0m\u001b[0msearch\u001b[0m\u001b[1;33m(\u001b[0m\u001b[1;34mr'(error)'\u001b[0m\u001b[1;33m,\u001b[0m \u001b[0mstring\u001b[0m\u001b[1;33m,\u001b[0m \u001b[0mre\u001b[0m\u001b[1;33m.\u001b[0m\u001b[0mDOTALL\u001b[0m\u001b[1;33m)\u001b[0m \u001b[1;32mis\u001b[0m \u001b[1;32mnot\u001b[0m \u001b[1;32mNone\u001b[0m\u001b[1;33m:\u001b[0m\u001b[1;33m\u001b[0m\u001b[1;33m\u001b[0m\u001b[0m\n\u001b[0;32m     36\u001b[0m                 \u001b[1;31m#if re.search(r'(error:.*?)', string, re.DOTALL) is not None:\u001b[0m\u001b[1;33m\u001b[0m\u001b[1;33m\u001b[0m\u001b[1;33m\u001b[0m\u001b[0m\n",
      "\u001b[1;31mTypeError\u001b[0m: can only concatenate str (not \"datetime.datetime\") to str"
     ]
    }
   ],
   "source": [
    "import re\n",
    "import os\n",
    "import time\n",
    "import pandas as pd\n",
    "from datetime import datetime\n",
    "\n",
    "start = time.time()\n",
    "dfError = pd.DataFrame()\n",
    "DBName = 'NA'\n",
    "mypath = r\"C:\\Users\\singhs113\\Desktop\\crmlogs\\logs\"\n",
    "for path, subdirs, files in os.walk(mypath):\n",
    "    for name in files:\n",
    "        if re.search(r'(dev_..)(.*)', name, re.IGNORECASE) is not None:\n",
    "        #if re.search(r'dev_.*.log$', name, re.IGNORECASE) is not None:\n",
    "            print(name)\n",
    "            if re.search(r'(dev_)(.*?\\.)', name, re.IGNORECASE) is not None:\n",
    "                DBName = re.search(r'(dev_)(.*?\\.)', name, re.IGNORECASE).group(2).rstrip('.')\n",
    "            f = open(os.path.join(path, name), 'r')\n",
    "            data = f.read()\n",
    "            pattern = \"([a-zA-Z]{3} [a-zA-Z]{3} \\d{2} \\d{2}:\\d{2}:\\d{2} \\d{4})(.*?)(?=[a-zA-Z]{3} [a-zA-Z]{3} \\d{2} \\d{2}:\\d{2}:\\d{2} \\d{4})\"\n",
    "            #pattern = \"([a-zA-Z]{3} [a-zA-Z]{3} \\d{2} \\d{2}:\\d{2}:\\d{2} \\d{4})(.*?)(?=[a-zA-Z]{3} [a-zA-Z]{3} \\d{2} \\d{2}:\\d{2}:\\d{2} \\d{4})\"\n",
    "            mappedFile = re.findall(pattern, data, re.DOTALL)\n",
    "\n",
    "\n",
    "            def get_errors(x):\n",
    "                a = []\n",
    "                string = ''.join(x)\n",
    "                if re.search(r'[a-zA-Z]{3} [a-zA-Z]{3} \\d{2} \\d{2}:\\d{2}:\\d{2} \\d{4}', string, re.DOTALL):\n",
    "                    timestamp = re.search(r'[a-zA-Z]{3} [a-zA-Z]{3} \\d{2} \\d{2}:\\d{2}:\\d{2} \\d{4}', string,\n",
    "                                          re.DOTALL).group(0)\n",
    "                    old_date = datetime.strptime(timestamp, \"%c\")\n",
    "                    new_date = old_date.strftime(\"%m/%d/%Y\")\n",
    "                    new_time = old_date.strftime(\"%X\")\n",
    "                    print(\"New Date = \" + new_date + \"Old Date= \" + old_date)\n",
    "                if re.search(r'(error)', string, re.DOTALL) is not None:\n",
    "                #if re.search(r'(error:.*?)', string, re.DOTALL) is not None:\n",
    "                    # if re.search(r'(error:.*?)(?=ORA-\\d+)', string,re.DOTALL) is not None:\n",
    "                    a = [\"NA\", \"NA\", \"NA\", \"NA\", \"NA\"]\n",
    "                    a[0] = new_date\n",
    "                    a[1] = new_time\n",
    "                    a[2] = DBName\n",
    "                    a[3] = re.search(r'(error)', string, re.DOTALL).group(1)\n",
    "                    a[4] = re.search(r'(error)', string, re.DOTALL).group(2)\n",
    "                    # a[3]=re.search(r'(error:.*?)(ORA-\\d+)', string,re.DOTALL).group(1)\n",
    "                    # a[4]=re.search(r'(error:.*?)(ORA-\\d+)', string,re.DOTALL).group(2)\n",
    "                return a\n",
    "\n",
    "\n",
    "            out = map(get_errors, mappedFile)\n",
    "            out = list(filter(None, out))\n",
    "            f.close()\n",
    "            warn = pd.DataFrame(out, columns=[\"DATE\", \"TIME\", \"DBNAME\", \"WARNINGS\", \"ERRORCODE\"])\n",
    "            dfError = dfError.append(warn, ignore_index=True)\n",
    "        # print(len(out[0]))\n",
    "# w = datetime.now().time()\n",
    "# now = datetime. now().time()\n",
    "\n",
    "\n",
    "now1 = datetime.now()\n",
    "\n",
    "current_time = now1.strftime(\"%H:%M:%S\")\n",
    "# print(\"Current Time =\", current_time)\n",
    "\n",
    "\n",
    "# print(\"now =\", now)\n",
    "# print(\"type(now) =\", type(now))\n",
    "print(\"Extraction completed at \" + current_time)\n",
    "print(\"--Total Time Taken %s mintues\" % ((time.time() - start) / 60))"
   ]
  },
  {
   "cell_type": "code",
   "execution_count": 9,
   "metadata": {},
   "outputs": [
    {
     "name": "stdout",
     "output_type": "stream",
     "text": [
      "Empty DataFrame\n",
      "Columns: []\n",
      "Index: []\n"
     ]
    }
   ],
   "source": [
    "dfError\n",
    "print(dfError) "
   ]
  },
  {
   "cell_type": "code",
   "execution_count": 10,
   "metadata": {},
   "outputs": [],
   "source": [
    "now = datetime.now().strftime(\"%d_%m_%Y_%H_%M_%S\")\n",
    "with pd.ExcelWriter(\"Crmerrors_\"+now+\".xlsx\") as writer:\n",
    "    dfError.to_excel(writer, sheet_name='Errors', engine='xlsxwriter', index=False)"
   ]
  },
  {
   "cell_type": "code",
   "execution_count": null,
   "metadata": {},
   "outputs": [],
   "source": []
  }
 ],
 "metadata": {
  "kernelspec": {
   "display_name": "Python 3",
   "language": "python",
   "name": "python3"
  },
  "language_info": {
   "codemirror_mode": {
    "name": "ipython",
    "version": 3
   },
   "file_extension": ".py",
   "mimetype": "text/x-python",
   "name": "python",
   "nbconvert_exporter": "python",
   "pygments_lexer": "ipython3",
   "version": "3.7.4"
  }
 },
 "nbformat": 4,
 "nbformat_minor": 4
}
